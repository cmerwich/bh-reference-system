{
 "cells": [
  {
   "cell_type": "markdown",
   "metadata": {},
   "source": [
    "# Export BH Reference System Features\n",
    "\n",
    "View this notebook in [NB viewer](https://nbviewer.jupyter.org/github/cmerwich/bh-reference-system/blob/master/1.%20Export%20Features.ipynb)\n",
    "\n",
    "This notebook exports five new features that enable a student or researcher of Biblical Hebrew (BH) to study its reference system. BH, like other languages, makes use of all kinds of features within the language to establish text-coherence and to ensure that the reader or listener understands to whom or what is being referred to. These BH features are, including their Person, Gender and Number (PGN) properties (if existent) among others: \n",
    "\n",
    "* Personal pronouns, `prps`; \n",
    "* Demonstrative pronouns, `prde`; \n",
    "* The `verb` and its suffix `prs` (if the verb has one); \n",
    "* The suffix `prs` of a word; \n",
    "* `Nouns` that can function as pronouns. I leave these out of consideration, for now. \n",
    "\n",
    "Within Text Fabric (see: [BHSA](https://github.com/ETCBC/bhsa)), the dataset this notebook makes use of, named features are already available. \n",
    "\n",
    "The features however, are sometimes only available in a transliterated or full BH form (`prps`, `prde`, `prs`). In addition, a combination of multiple other features is needed to determine the PGN property of pronouns, verbs, and suffixes. For example to retrieve the PGN of a verb five seperate features are needed: `pdp`, `nu`, `ps`, `gn` and `prs`. \n",
    "\n",
    "Therefore to make life, research and programming more simple this notebook exports five new features: `pgn_prde`, `pgn_prps`, `pgn_prs`, `pgn_verb`, and `pgn_verb_prs` (i.e. verb+suffix).\n",
    "\n",
    "In part 2 of this notebook I will demonstrate some nice things you can do with the new features."
   ]
  },
  {
   "cell_type": "markdown",
   "metadata": {},
   "source": [
    "## First import some modules and utils"
   ]
  },
  {
   "cell_type": "code",
   "execution_count": 2,
   "metadata": {},
   "outputs": [],
   "source": [
    "import sys, os, re, pickle, csv\n",
    "import collections, difflib\n",
    "from collections import *\n",
    "\n",
    "from IPython.display import HTML, display_pretty, display_html\n",
    "%matplotlib inline\n",
    "from random import random\n",
    "\n",
    "from pprint import pprint\n",
    "from tf.fabric import Fabric\n",
    "from tf.extra.bhsa import Bhsa\n",
    "from tf.transcription import Transcription\n",
    "from participant_helpers import * "
   ]
  },
  {
   "cell_type": "markdown",
   "metadata": {},
   "source": [
    "## Pull in the data"
   ]
  },
  {
   "cell_type": "code",
   "execution_count": 3,
   "metadata": {},
   "outputs": [
    {
     "name": "stdout",
     "output_type": "stream",
     "text": [
      "This is Text-Fabric 5.5.19\n",
      "Api reference : https://dans-labs.github.io/text-fabric/Api/General/\n",
      "Tutorial      : https://github.com/Dans-labs/text-fabric/blob/master/docs/tutorial.ipynb\n",
      "Example data  : https://github.com/Dans-labs/text-fabric-data\n",
      "\n",
      "120 features found and 0 ignored\n"
     ]
    }
   ],
   "source": [
    "VERSION = '2017'\n",
    "DATABASE = ['~/github/etcbc/bhsa', '~/github/bh-reference-system']\n",
    "BHSA = f'tf/{VERSION}'\n",
    "TF = Fabric(locations=DATABASE, modules=[BHSA], silent=False )"
   ]
  },
  {
   "cell_type": "code",
   "execution_count": 4,
   "metadata": {},
   "outputs": [],
   "source": [
    "api = TF.load('''\n",
    "    otype\n",
    "    lex book chapter verse\n",
    "    nu ps gn prs ls lex\n",
    "    function sp typ pdp language\n",
    "''', silent=True)\n",
    "\n",
    "api.makeAvailableIn(globals())"
   ]
  },
  {
   "cell_type": "code",
   "execution_count": null,
   "metadata": {},
   "outputs": [],
   "source": [
    "# Export the features to which coreVersion?\n",
    "\n",
    "CORE_VERSION = '2017' # '3', '4', '4b', '2016', '2017', 'c'\n",
    "\n",
    "# Save feature to which database on your computer?\n",
    "\n",
    "MY_DATABASE = 'tf/2017'"
   ]
  },
  {
   "cell_type": "markdown",
   "metadata": {},
   "source": [
    "## 1. Export personal pronouns as readable TF Feature "
   ]
  },
  {
   "cell_type": "code",
   "execution_count": null,
   "metadata": {},
   "outputs": [],
   "source": [
    "def export_prps():\n",
    "    \n",
    "    readable_prps = {}\n",
    "    \n",
    "    meta = {'': {'created_by': 'Christiaan Erwich',\n",
    "                 'coreData': 'BHSA',\n",
    "                 'coreVersion': CORE_VERSION\n",
    "                },\n",
    "            'pgn_prps' : {'source': 'see the notebooks at https://github.com/cmerwich/bh-reference-system',\n",
    "                      'valueType': 'str',\n",
    "                      'edgeValues': False}\n",
    "           }\n",
    "\n",
    "    for word in F.otype.s('word'):\n",
    "        pdp = F.pdp.v(word) # phrase dependent part-of-speech\n",
    "        lex = F.lex.v(word) # lexeme\n",
    "\n",
    "        # if the word is a personal pronoun\n",
    "        if pdp == 'prps':\n",
    "            if lex in prps_dict:\n",
    "                readable_prps[word] = prps_dict[lex][0]\n",
    "\n",
    "    new_nodes = {'pgn_prps': readable_prps}\n",
    "\n",
    "    saveTF = Fabric(MY_DATABASE)\n",
    "    saveTF.save(nodeFeatures=new_nodes, edgeFeatures={}, metaData=meta)\n",
    "\n",
    "export_prps()"
   ]
  },
  {
   "cell_type": "markdown",
   "metadata": {},
   "source": [
    "#### Check if the new feature loads properly"
   ]
  },
  {
   "cell_type": "code",
   "execution_count": 5,
   "metadata": {
    "scrolled": true
   },
   "outputs": [
    {
     "name": "stdout",
     "output_type": "stream",
     "text": [
      "  0.00s loading features ...\n",
      "   |     0.01s B pgn_prps             from /Users/Christiaan/github/bh-reference-system/tf/2017\n",
      "  0.02s All additional features loaded - for details use loadLog()\n",
      "   |     0.04s B otype                from /Users/Christiaan/github/etcbc/bhsa/tf/2017\n",
      "   |     0.79s B oslots               from /Users/Christiaan/github/etcbc/bhsa/tf/2017\n",
      "   |     0.01s B book                 from /Users/Christiaan/github/etcbc/bhsa/tf/2017\n",
      "   |     0.01s B chapter              from /Users/Christiaan/github/etcbc/bhsa/tf/2017\n",
      "   |     0.01s B verse                from /Users/Christiaan/github/etcbc/bhsa/tf/2017\n",
      "   |     0.16s B g_cons               from /Users/Christiaan/github/etcbc/bhsa/tf/2017\n",
      "   |     0.22s B g_cons_utf8          from /Users/Christiaan/github/etcbc/bhsa/tf/2017\n",
      "   |     0.18s B g_lex                from /Users/Christiaan/github/etcbc/bhsa/tf/2017\n",
      "   |     0.25s B g_lex_utf8           from /Users/Christiaan/github/etcbc/bhsa/tf/2017\n",
      "   |     0.17s B g_word               from /Users/Christiaan/github/etcbc/bhsa/tf/2017\n",
      "   |     0.25s B g_word_utf8          from /Users/Christiaan/github/etcbc/bhsa/tf/2017\n",
      "   |     0.16s B lex0                 from /Users/Christiaan/github/etcbc/bhsa/tf/2017\n",
      "   |     0.22s B lex_utf8             from /Users/Christiaan/github/etcbc/bhsa/tf/2017\n",
      "   |     0.00s B qere                 from /Users/Christiaan/github/etcbc/bhsa/tf/2017\n",
      "   |     0.00s B qere_trailer         from /Users/Christiaan/github/etcbc/bhsa/tf/2017\n",
      "   |     0.00s B qere_trailer_utf8    from /Users/Christiaan/github/etcbc/bhsa/tf/2017\n",
      "   |     0.00s B qere_utf8            from /Users/Christiaan/github/etcbc/bhsa/tf/2017\n",
      "   |     0.09s B trailer              from /Users/Christiaan/github/etcbc/bhsa/tf/2017\n",
      "   |     0.09s B trailer_utf8         from /Users/Christiaan/github/etcbc/bhsa/tf/2017\n",
      "   |     0.00s B __levels__           from otype, oslots, otext\n",
      "   |     0.04s B __order__            from otype, oslots, __levels__\n",
      "   |     0.04s B __rank__             from otype, __order__\n",
      "   |     1.57s B __levUp__            from otype, oslots, __rank__\n",
      "   |     1.18s B __levDown__          from otype, __levUp__, __rank__\n",
      "   |     0.47s B __boundary__         from otype, oslots, __rank__\n",
      "   |     0.01s B __sections__         from otype, oslots, otext, __levUp__, __levels__, book, chapter, verse\n",
      "   |     0.18s B lex                  from /Users/Christiaan/github/etcbc/bhsa/tf/2017\n",
      "   |     0.18s B nu                   from /Users/Christiaan/github/etcbc/bhsa/tf/2017\n",
      "   |     0.17s B ps                   from /Users/Christiaan/github/etcbc/bhsa/tf/2017\n",
      "   |     0.13s B gn                   from /Users/Christiaan/github/etcbc/bhsa/tf/2017\n",
      "   |     0.17s B prs                  from /Users/Christiaan/github/etcbc/bhsa/tf/2017\n",
      "   |     0.16s B ls                   from /Users/Christiaan/github/etcbc/bhsa/tf/2017\n",
      "   |     0.11s B function             from /Users/Christiaan/github/etcbc/bhsa/tf/2017\n",
      "   |     0.19s B sp                   from /Users/Christiaan/github/etcbc/bhsa/tf/2017\n",
      "   |     0.31s B typ                  from /Users/Christiaan/github/etcbc/bhsa/tf/2017\n",
      "   |     0.22s B pdp                  from /Users/Christiaan/github/etcbc/bhsa/tf/2017\n",
      "   |     0.16s B language             from /Users/Christiaan/github/etcbc/bhsa/tf/2017\n",
      "   |     0.00s B book@am              from /Users/Christiaan/github/etcbc/bhsa/tf/2017\n",
      "   |     0.00s B book@ar              from /Users/Christiaan/github/etcbc/bhsa/tf/2017\n",
      "   |     0.00s B book@bn              from /Users/Christiaan/github/etcbc/bhsa/tf/2017\n",
      "   |     0.00s B book@da              from /Users/Christiaan/github/etcbc/bhsa/tf/2017\n",
      "   |     0.00s B book@de              from /Users/Christiaan/github/etcbc/bhsa/tf/2017\n",
      "   |     0.00s B book@el              from /Users/Christiaan/github/etcbc/bhsa/tf/2017\n",
      "   |     0.00s B book@en              from /Users/Christiaan/github/etcbc/bhsa/tf/2017\n",
      "   |     0.00s B book@es              from /Users/Christiaan/github/etcbc/bhsa/tf/2017\n",
      "   |     0.00s B book@fa              from /Users/Christiaan/github/etcbc/bhsa/tf/2017\n",
      "   |     0.00s B book@fr              from /Users/Christiaan/github/etcbc/bhsa/tf/2017\n",
      "   |     0.00s B book@he              from /Users/Christiaan/github/etcbc/bhsa/tf/2017\n",
      "   |     0.00s B book@hi              from /Users/Christiaan/github/etcbc/bhsa/tf/2017\n",
      "   |     0.00s B book@id              from /Users/Christiaan/github/etcbc/bhsa/tf/2017\n",
      "   |     0.00s B book@ja              from /Users/Christiaan/github/etcbc/bhsa/tf/2017\n",
      "   |     0.00s B book@ko              from /Users/Christiaan/github/etcbc/bhsa/tf/2017\n",
      "   |     0.00s B book@la              from /Users/Christiaan/github/etcbc/bhsa/tf/2017\n",
      "   |     0.00s B book@nl              from /Users/Christiaan/github/etcbc/bhsa/tf/2017\n",
      "   |     0.00s B book@pa              from /Users/Christiaan/github/etcbc/bhsa/tf/2017\n",
      "   |     0.00s B book@pt              from /Users/Christiaan/github/etcbc/bhsa/tf/2017\n",
      "   |     0.00s B book@ru              from /Users/Christiaan/github/etcbc/bhsa/tf/2017\n",
      "   |     0.00s B book@sw              from /Users/Christiaan/github/etcbc/bhsa/tf/2017\n",
      "   |     0.00s B book@syc             from /Users/Christiaan/github/etcbc/bhsa/tf/2017\n",
      "   |     0.00s B book@tr              from /Users/Christiaan/github/etcbc/bhsa/tf/2017\n",
      "   |     0.00s B book@ur              from /Users/Christiaan/github/etcbc/bhsa/tf/2017\n",
      "   |     0.00s B book@yo              from /Users/Christiaan/github/etcbc/bhsa/tf/2017\n",
      "   |     0.00s B book@zh              from /Users/Christiaan/github/etcbc/bhsa/tf/2017\n",
      "   |     0.01s B pgn_prps             from /Users/Christiaan/github/bh-reference-system/tf/2017\n"
     ]
    }
   ],
   "source": [
    "TF.load('pgn_prps', add=True)\n",
    "loadLog()"
   ]
  },
  {
   "cell_type": "markdown",
   "metadata": {},
   "source": [
    "## 2. Export demonstrative pronouns as readable TF Feature "
   ]
  },
  {
   "cell_type": "code",
   "execution_count": null,
   "metadata": {},
   "outputs": [],
   "source": [
    "def export_prde():\n",
    "    \n",
    "    readable_prde = {}\n",
    "    \n",
    "    meta = {'': {'created_by': 'Christiaan Erwich',\n",
    "                 'coreData': 'BHSA',\n",
    "                 'coreVersion': CORE_VERSION\n",
    "                },\n",
    "            'pgn_prde' : {'source': 'see the notebooks at https://github.com/cmerwich/bh-reference-system',\n",
    "                      'valueType': 'str',\n",
    "                      'edgeValues': False}\n",
    "           }\n",
    "\n",
    "    for word in F.otype.s('word'):\n",
    "        pdp = F.pdp.v(word) # phrase dependent part-of-speech\n",
    "        lex = F.lex.v(word) # lexeme\n",
    "\n",
    "        # if the word is a demonstrativum\n",
    "        if pdp == 'prde':\n",
    "            if lex in prde_dict:\n",
    "                readable_prde[word] = prde_dict[lex][0]\n",
    "\n",
    "    new_nodes = {'pgn_prde': readable_prde}\n",
    "\n",
    "    saveTF = Fabric(MY_DATABASE)\n",
    "    saveTF.save(nodeFeatures=new_nodes, edgeFeatures={}, metaData=meta)\n",
    "\n",
    "export_prde()"
   ]
  },
  {
   "cell_type": "markdown",
   "metadata": {},
   "source": [
    "#### Check if the new feature loads properly"
   ]
  },
  {
   "cell_type": "code",
   "execution_count": 6,
   "metadata": {},
   "outputs": [
    {
     "name": "stdout",
     "output_type": "stream",
     "text": [
      "  0.00s loading features ...\n",
      "   |     0.02s T pgn_prde             from /Users/Christiaan/github/bh-reference-system/tf/2017\n",
      "  0.03s All additional features loaded - for details use loadLog()\n",
      "   |     0.02s T pgn_prde             from /Users/Christiaan/github/bh-reference-system/tf/2017\n"
     ]
    }
   ],
   "source": [
    "TF.load('pgn_prde', add=True)\n",
    "loadLog()"
   ]
  },
  {
   "cell_type": "markdown",
   "metadata": {},
   "source": [
    "## 3. Export PGN of the verb"
   ]
  },
  {
   "cell_type": "code",
   "execution_count": null,
   "metadata": {},
   "outputs": [],
   "source": [
    "def export_verb_pgn():\n",
    "    \n",
    "    readable_verb_pgn = {}\n",
    "    \n",
    "    meta = {'': {'created_by': 'Christiaan Erwich',\n",
    "                 'coreData': 'BHSA',\n",
    "                 'coreVersion': CORE_VERSION\n",
    "                },\n",
    "            'pgn_verb' : {'source': 'see the notebooks at https://github.com/cmerwich/bh-reference-system',\n",
    "                      'valueType': 'str',\n",
    "                      'edgeValues': False}\n",
    "           }\n",
    "\n",
    "    for word in F.otype.s('word'):\n",
    "        prs = F.prs.v(word) # pronominal suffix -consonantal-transliterated\n",
    "        pdp = F.pdp.v(word) # phrase dependent part-of-speech\n",
    "\n",
    "        # if the word is a verb\n",
    "        if pdp == 'verb':\n",
    "            readable_verb_pgn[word] = pgn_dict[converse_pgn(F, word)][0]\n",
    "       \n",
    "    #pprint(readable_verb_pgn)\n",
    "    new_nodes = {'pgn_verb': readable_verb_pgn}\n",
    "\n",
    "    saveTF = Fabric(MY_DATABASE)\n",
    "    saveTF.save(nodeFeatures=new_nodes, edgeFeatures={}, metaData=meta)\n",
    "\n",
    "export_verb_pgn()"
   ]
  },
  {
   "cell_type": "code",
   "execution_count": null,
   "metadata": {},
   "outputs": [],
   "source": [
    "# Check if the entries in readable_verb_pgn are correct \n",
    "\n",
    "print(T.text(range(569,570)), T.sectionFromNode(569))"
   ]
  },
  {
   "cell_type": "markdown",
   "metadata": {},
   "source": [
    "#### Check if the new feature loads properly"
   ]
  },
  {
   "cell_type": "code",
   "execution_count": 7,
   "metadata": {},
   "outputs": [
    {
     "name": "stdout",
     "output_type": "stream",
     "text": [
      "  0.00s loading features ...\n",
      "   |     0.34s T pgn_verb             from /Users/Christiaan/github/bh-reference-system/tf/2017\n",
      "  0.35s All additional features loaded - for details use loadLog()\n"
     ]
    }
   ],
   "source": [
    "TF.load('pgn_verb', add=True)"
   ]
  },
  {
   "cell_type": "markdown",
   "metadata": {},
   "source": [
    "#### Nota bene"
   ]
  },
  {
   "cell_type": "markdown",
   "metadata": {},
   "source": [
    "The `pgn_verb` gives a PGN property for the verb and its suffix in one string, e.g.: 'P2Mpl P3Fsg_o'. To retrieve either the PGN of the verb or the suffix use: `str.split()`. The _o or _s indicates if the suffix is an object suffix or a subject suffix. \n",
    "\n",
    "If the verb has no suffix `pgn_verb` gives the PGN of the verb, e.g.: 'P3Mpl'."
   ]
  },
  {
   "cell_type": "markdown",
   "metadata": {},
   "source": [
    "## 4. Export PGN of the verb and its suffix"
   ]
  },
  {
   "cell_type": "code",
   "execution_count": null,
   "metadata": {},
   "outputs": [],
   "source": [
    "def export_verbprs_pgn():\n",
    "    \n",
    "    readable_verbprs_pgn = {}\n",
    "    \n",
    "    meta = {'': {'created_by': 'Christiaan Erwich',\n",
    "                 'coreData': 'BHSA',\n",
    "                 'coreVersion': CORE_VERSION\n",
    "                },\n",
    "            'pgn_verb_prs' : {'source': 'see the notebooks at https://github.com/cmerwich/bh-reference-system',\n",
    "                      'valueType': 'str',\n",
    "                      'edgeValues': False}\n",
    "           }\n",
    "\n",
    "    for word in F.otype.s('word'):\n",
    "        prs = F.prs.v(word) # pronominal suffix -consonantal-transliterated\n",
    "        pdp = F.pdp.v(word) # phrase dependent part-of-speech\n",
    "       \n",
    "        phrase = L.u(word, 'phrase')[0]\n",
    "        \n",
    "        # if the word is a verb and has a pronominal suffix, also add the prs function: object or suffix\n",
    "        if pdp == 'verb' and prs not in {'n/a', 'absent'}:\n",
    "            if F.function.v(phrase) == 'PreO':\n",
    "                readable_verbprs_pgn[word] = pgn_dict[converse_pgn(F, word)][0] + ' ' + suffix_dict[prs][0] + '_o'\n",
    "            elif F.function.v(phrase) == 'PreS':\n",
    "                readable_verbprs_pgn[word] = pgn_dict[converse_pgn(F, word)][0] + ' ' + suffix_dict[prs][0] + '_s'\n",
    "            elif F.function.v(phrase) == 'PtcO':\n",
    "                readable_verbprs_pgn[word] = pgn_dict[converse_pgn(F, word)][0] + ' ' + suffix_dict[prs][0] + '_o'\n",
    "\n",
    "    #pprint(readable_verb_pgn)\n",
    "    new_nodes = {'pgn_verb_prs': readable_verbprs_pgn}\n",
    "\n",
    "    saveTF = Fabric(MY_DATABASE)\n",
    "    saveTF.save(nodeFeatures=new_nodes, edgeFeatures={}, metaData=meta)\n",
    "\n",
    "export_verbprs_pgn()"
   ]
  },
  {
   "cell_type": "code",
   "execution_count": 8,
   "metadata": {},
   "outputs": [
    {
     "name": "stdout",
     "output_type": "stream",
     "text": [
      "  0.00s loading features ...\n",
      "   |     0.05s T pgn_verb_prs         from /Users/Christiaan/github/bh-reference-system/tf/2017\n",
      "  0.06s All additional features loaded - for details use loadLog()\n"
     ]
    }
   ],
   "source": [
    "TF.load('pgn_verb_prs', add=True)"
   ]
  },
  {
   "cell_type": "markdown",
   "metadata": {},
   "source": [
    "#### Nota bene"
   ]
  },
  {
   "cell_type": "markdown",
   "metadata": {},
   "source": [
    "The `pgn_verb_prs` gives a PGN property for the verb and its suffix in one string, e.g.: 'P2Mpl P3Fsg_o'. To retrieve either the PGN of the verb or the suffix use: `str.split()`. The _o or _s indicates if the suffix is an object suffix or a subject suffix. "
   ]
  },
  {
   "cell_type": "markdown",
   "metadata": {},
   "source": [
    "## 5. Export PGN of the suffix"
   ]
  },
  {
   "cell_type": "code",
   "execution_count": null,
   "metadata": {},
   "outputs": [],
   "source": [
    "def export_prs():\n",
    "    \n",
    "    readable_prs = {}\n",
    "    \n",
    "    meta = {'': {'created_by': 'Christiaan Erwich',\n",
    "                 'coreData': 'BHSA',\n",
    "                 'coreVersion': CORE_VERSION\n",
    "                },\n",
    "            'pgn_prs' : {'source': 'see the notebooks at https://github.com/cmerwich/bh-reference-system',\n",
    "                      'valueType': 'str',\n",
    "                      'edgeValues': False}\n",
    "           }\n",
    "\n",
    "    for word in F.otype.s('word'):\n",
    "        prs = F.prs.v(word) # pronominal suffix -consonantal-transliterated\n",
    "        pdp = F.pdp.v(word) # phrase dependent part-of-speech\n",
    "\n",
    "        # if the word has a suffix\n",
    "        if prs not in {'n/a', 'absent'}:\n",
    "            readable_prs[word] = suffix_dict[prs][0]\n",
    "    \n",
    "    new_nodes = {'pgn_prs': readable_prs}\n",
    "    \n",
    "    saveTF = Fabric(MY_DATABASE)\n",
    "    saveTF.save(nodeFeatures=new_nodes, edgeFeatures={}, metaData=meta)\n",
    "\n",
    "export_prs()"
   ]
  },
  {
   "cell_type": "markdown",
   "metadata": {},
   "source": [
    "#### Check if the new feature loads properly"
   ]
  },
  {
   "cell_type": "code",
   "execution_count": 9,
   "metadata": {},
   "outputs": [
    {
     "name": "stdout",
     "output_type": "stream",
     "text": [
      "  0.00s loading features ...\n",
      "   |     0.27s T pgn_prs              from /Users/Christiaan/github/bh-reference-system/tf/2017\n",
      "  0.28s All additional features loaded - for details use loadLog()\n"
     ]
    }
   ],
   "source": [
    "TF.load('pgn_prs', add=True)"
   ]
  }
 ],
 "metadata": {
  "kernelspec": {
   "display_name": "Python 3",
   "language": "python",
   "name": "python3"
  },
  "language_info": {
   "codemirror_mode": {
    "name": "ipython",
    "version": 3
   },
   "file_extension": ".py",
   "mimetype": "text/x-python",
   "name": "python",
   "nbconvert_exporter": "python",
   "pygments_lexer": "ipython3",
   "version": "3.7.0"
  }
 },
 "nbformat": 4,
 "nbformat_minor": 2
}
